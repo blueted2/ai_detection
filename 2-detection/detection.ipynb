{
 "cells": [
  {
   "cell_type": "code",
   "execution_count": null,
   "metadata": {},
   "outputs": [],
   "source": [
    "# clone yolov5 repository and install dependencies\n",
    "!git clone https://github.com/ultralytics/yolov5\n",
    "%cd yolov5\n",
    "%pip install -qr requirements.txt  # install\n",
    "\n",
    "# install comet_ml for logging\n",
    "%pip install comet_ml\n",
    "import comet_ml\n",
    "comet_ml.init(project_name='comet-example-yolov5')\n",
    "\n",
    "import torch\n",
    "import utils\n",
    "display = utils.notebook_init()  # checks\n",
    "\n",
    "%cd .."
   ]
  },
  {
   "cell_type": "code",
   "execution_count": null,
   "metadata": {},
   "outputs": [],
   "source": [
    "## optional: mount google drive for persistent storage\n",
    "# from google.colab import drive\n",
    "# drive.mount(\"/content/drive\")\n",
    "\n",
    "# dataset_archive = \"/content/drive/MyDrive/collab_data/AI_auto_robots/detection_assignment.zip\""
   ]
  },
  {
   "cell_type": "code",
   "execution_count": null,
   "metadata": {},
   "outputs": [],
   "source": [
    "# where the dataset is stored (don't run if you mounted google drive)\n",
    "dataset_archive = \"detection_assignment.zip\""
   ]
  },
  {
   "cell_type": "code",
   "execution_count": null,
   "metadata": {},
   "outputs": [],
   "source": [
    "# extract dataset\n",
    "!mkdir -p datasets/detection_assignment\n",
    "!unzip -q $dataset_archive -d datasets/detection_assignment"
   ]
  },
  {
   "cell_type": "code",
   "execution_count": null,
   "metadata": {},
   "outputs": [],
   "source": [
    "# unmount drive (if you mounted it)\n",
    "# drive.flush_and_unmount()"
   ]
  },
  {
   "cell_type": "code",
   "execution_count": null,
   "metadata": {},
   "outputs": [],
   "source": [
    "# clone assignment repository\n",
    "!wget https://github.com/blueted2/utwente-AIfAR-assignments/releases/download/test-v0.0.1/detection_assignment.yaml\n",
    "\n",
    "# copy dataset config file\n",
    "!cp detection_assignment.yaml yolov5/data/"
   ]
  },
  {
   "cell_type": "code",
   "execution_count": null,
   "metadata": {},
   "outputs": [],
   "source": [
    "!python3 yolov5/train.py \\\n",
    "    --img 1024 \\\n",
    "    --batch -1 \\\n",
    "    --epochs 300 \\\n",
    "    --data detection_assignment.yaml \\\n",
    "    --weights yolov5s.pt \\\n",
    "    --cache ram"
   ]
  }
 ],
 "metadata": {
  "kernelspec": {
   "display_name": "Python 3",
   "language": "python",
   "name": "python3"
  },
  "language_info": {
   "codemirror_mode": {
    "name": "ipython",
    "version": 3
   },
   "file_extension": ".py",
   "mimetype": "text/x-python",
   "name": "python",
   "nbconvert_exporter": "python",
   "pygments_lexer": "ipython3",
   "version": "3.10.6"
  },
  "orig_nbformat": 4
 },
 "nbformat": 4,
 "nbformat_minor": 2
}
